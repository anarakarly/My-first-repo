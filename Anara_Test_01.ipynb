{
  "nbformat": 4,
  "nbformat_minor": 0,
  "metadata": {
    "colab": {
      "name": "Anara Test 01.ipynb",
      "provenance": [],
      "authorship_tag": "ABX9TyPVRo3HphU/2UlG48QQzOme",
      "include_colab_link": true
    },
    "kernelspec": {
      "name": "python3",
      "display_name": "Python 3"
    }
  },
  "cells": [
    {
      "cell_type": "markdown",
      "metadata": {
        "id": "view-in-github",
        "colab_type": "text"
      },
      "source": [
        "<a href=\"https://colab.research.google.com/github/anarakarly/My-first-repo/blob/master/Anara_Test_01.ipynb\" target=\"_parent\"><img src=\"https://colab.research.google.com/assets/colab-badge.svg\" alt=\"Open In Colab\"/></a>"
      ]
    },
    {
      "cell_type": "markdown",
      "metadata": {
        "id": "0MmQ89fDXTto",
        "colab_type": "text"
      },
      "source": [
        "Hi this is a test "
      ]
    },
    {
      "cell_type": "code",
      "metadata": {
        "id": "aURmKVKVXVs4",
        "colab_type": "code",
        "colab": {
          "base_uri": "https://localhost:8080/",
          "height": 34
        },
        "outputId": "1cc1f82e-a0f4-4842-87bb-31a70941b57b"
      },
      "source": [
        "print(\"Hello, Ola, Hola, Salem, Privet\")"
      ],
      "execution_count": 6,
      "outputs": [
        {
          "output_type": "stream",
          "text": [
            "Hello, Ola, Hola, Salem, Privet\n"
          ],
          "name": "stdout"
        }
      ]
    }
  ]
}