{
  "nbformat": 4,
  "nbformat_minor": 0,
  "metadata": {
    "colab": {
      "name": "Anara Lab 1.ipynb",
      "provenance": [],
      "authorship_tag": "ABX9TyMCqHcPALCLvCPHfcTfBwuL",
      "include_colab_link": true
    },
    "kernelspec": {
      "name": "python3",
      "display_name": "Python 3"
    }
  },
  "cells": [
    {
      "cell_type": "markdown",
      "metadata": {
        "id": "view-in-github",
        "colab_type": "text"
      },
      "source": [
        "<a href=\"https://colab.research.google.com/github/anarakarly/My-first-repo/blob/master/Anara_Lab_1.ipynb\" target=\"_parent\"><img src=\"https://colab.research.google.com/assets/colab-badge.svg\" alt=\"Open In Colab\"/></a>"
      ]
    },
    {
      "cell_type": "code",
      "metadata": {
        "id": "cLV5lWoplqVI",
        "colab_type": "code",
        "colab": {
          "base_uri": "https://localhost:8080/",
          "height": 85
        },
        "outputId": "b280d20d-a629-4f2d-f2f6-c33e92ed1e58"
      },
      "source": [
        "'''\n",
        "Author: Anara Sharzhau\n",
        "Created: September 3, 2020\n",
        "Note: The code created is to calculate runoff of rainwater when the agricultural land is paved over. \n",
        "Inputs are length, width, area and number of inches of rainfall.\n",
        "Outputs are length, width, number of inches of rainfall and the amount of rainfall in gallons. \n",
        "'''\n",
        "\n",
        "# This section creates variables \n",
        "length_feet = 60.00\n",
        "width_feet = 30.00\n",
        "rainfall_inch = 3\n",
        "\n",
        "# This line calculates the area in square feet\n",
        "area = length * width\n",
        "\n",
        "# This line converts the area to inches\n",
        "area_inch = area*144\n",
        "\n",
        "# This line calculates the amount of runoff water\n",
        "runoff_inch = area_inch *rainfall_inch\n",
        "\n",
        "# This line converts the runoff to gallons\n",
        "runoff_gallon = runoff_inch/231\n",
        "\n",
        "#This section outputs the results \n",
        "print(\"plot_length is:\" , length_feet )\n",
        "print(\"plot_width is:\" , width_feet)\n",
        "print(\"rainfall_inches is:\" , rainfall_inch)\n",
        "print(\"runoff gallons is:\", round(runoff_gallon,2))\n",
        "\n",
        "\n",
        "# I found this function 'round()' on Stackoverflow. It rounds floats that have a lot of decimal places. \n"
      ],
      "execution_count": 13,
      "outputs": [
        {
          "output_type": "stream",
          "text": [
            "plot_length is: 60.0\n",
            "plot_width is: 30.0\n",
            "rainfall_inches is: 3\n",
            "runoff gallons is: 1870.13\n"
          ],
          "name": "stdout"
        }
      ]
    }
  ]
}