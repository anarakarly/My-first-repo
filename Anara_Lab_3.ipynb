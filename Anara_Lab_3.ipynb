{
  "nbformat": 4,
  "nbformat_minor": 0,
  "metadata": {
    "colab": {
      "name": "Anara Lab 3.ipynb",
      "provenance": [],
      "authorship_tag": "ABX9TyPF8RBzC+cetn+n1ybofCYc",
      "include_colab_link": true
    },
    "kernelspec": {
      "name": "python3",
      "display_name": "Python 3"
    }
  },
  "cells": [
    {
      "cell_type": "markdown",
      "metadata": {
        "id": "view-in-github",
        "colab_type": "text"
      },
      "source": [
        "<a href=\"https://colab.research.google.com/github/anarakarly/My-first-repo/blob/master/Anara_Lab_3.ipynb\" target=\"_parent\"><img src=\"https://colab.research.google.com/assets/colab-badge.svg\" alt=\"Open In Colab\"/></a>"
      ]
    },
    {
      "cell_type": "code",
      "metadata": {
        "id": "7zNO6haVdxkS",
        "colab_type": "code",
        "colab": {
          "base_uri": "https://localhost:8080/",
          "height": 612
        },
        "outputId": "c7180b4f-5505-4483-d849-53f996df12d1"
      },
      "source": [
        "'''\n",
        "Author: Anara Sharzhau\n",
        "Created: September 18, 2020\n",
        "Version of Python: I am using Python 3\n",
        "Note: The script extracts live weather conditions from the National Weather Service website for \n",
        "a given location in the United States. \n",
        "Inputs are the latitude and longitude, requred libraries\n",
        "Outputs are printed statements: the latitude and longitude, temperature, Humidity, Wind Speed, Barometer, Dewpoint, Visibility \n",
        "and Last Updated information for the selected city.\n",
        "'''\n",
        "\n",
        "# Import required libraries\n",
        "import requests\n",
        "from bs4 import BeautifulSoup\n",
        "\n",
        "# Provide the latitude and longitude for the location you would like to check the weather for\n",
        "# Lat/lon in decimal degrees provided for College Station, TX\n",
        "lat = '30.622370'\n",
        "lon = '-96.325851'\n",
        "\n",
        "# Create url for the requested location through string concatenation\n",
        "url = 'https://forecast.weather.gov/MapClick.php?lat='+lat+\"&lon=\"+lon\n",
        "# Check if the URL exists\n",
        "# print url\n",
        "\n",
        "# Send request to retrieve the web-page using the get() function from the requests library\n",
        "# The page variable stores the response from the web-page\n",
        "page = requests.get(url)\n",
        "\n",
        "# Create a BeautifulSoup object with the response from the URL\n",
        "# Access contents of the web-page using .content\n",
        "# html_parser is used since our page is in HTML format\n",
        "soup=BeautifulSoup(page.content,\"html.parser\")\n",
        "\n",
        "# Locate element on page to be scraped\n",
        "# This element is located within an id tag called current_conditions-summary\n",
        "# find() locates the element in the BeautifulSoup object\n",
        "cur_weather_conditions = soup.find(id=\"current_conditions-summary\")\n",
        "\n",
        "# Extract text from the selected BeautifulSoup object using .text\n",
        "cur_weather_conditions = cur_weather_conditions.text\n",
        "\n",
        "# Final Output\n",
        "# Return scraped information\n",
        "print('The Current Weather Conditions at '+ lat +  \", \" + lon + \" is:\" + cur_weather_conditions)\n",
        "\n",
        "# Locate element on page to be scraped\n",
        "# This element is located within an id tag called current_conditions-summary\n",
        "# find() locates the element in the BeautifulSoup object\n",
        "cur_weather_conditions_detail = soup.find(id = \"current_conditions_detail\")\n",
        "\n",
        "# Extract text from the selected BeautifulSoup object using .text\n",
        "cur_weather_conditions_detail = cur_weather_conditions_detail.text\n",
        "\n",
        "# Final Output\n",
        "# Return scraped information\n",
        "print(cur_weather_conditions_detail)"
      ],
      "execution_count": 6,
      "outputs": [
        {
          "output_type": "stream",
          "text": [
            "The Current Weather Conditions at 30.622370, -96.325851 is:\n",
            "\n",
            "Fair\n",
            "86°F\n",
            "30°C\n",
            "\n",
            "\n",
            "\n",
            "\n",
            "Humidity\n",
            "43%\n",
            "\n",
            "\n",
            "Wind Speed\n",
            "NE 12 mph\n",
            "\n",
            "\n",
            "Barometer\n",
            "30.05 in (1017.1 mb)\n",
            "\n",
            "\n",
            "Dewpoint\n",
            "61°F (16°C)\n",
            "\n",
            "\n",
            "Visibility\n",
            "10.00 mi\n",
            "\n",
            "Heat Index86°F (30°C) \n",
            "Last update\n",
            "\n",
            "                18 Sep 12:53 pm CDT            \n",
            "\n",
            "\n",
            "\n"
          ],
          "name": "stdout"
        }
      ]
    }
  ]
}